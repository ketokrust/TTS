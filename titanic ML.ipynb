{
 "cells": [
  {
   "cell_type": "code",
   "execution_count": 10,
   "metadata": {
    "_cell_guid": "b1076dfc-b9ad-4769-8c92-a6c4dae69d19",
    "_uuid": "8f2839f25d086af736a60e9eeb907d3b93b6e0e5",
    "execution": {
     "iopub.execute_input": "2021-09-03T00:38:25.632063Z",
     "iopub.status.busy": "2021-09-03T00:38:25.631698Z",
     "iopub.status.idle": "2021-09-03T00:38:25.643343Z",
     "shell.execute_reply": "2021-09-03T00:38:25.642455Z",
     "shell.execute_reply.started": "2021-09-03T00:38:25.632033Z"
    }
   },
   "outputs": [],
   "source": [
    "# This Python 3 environment comes with many helpful analytics libraries installed\n",
    "# It is defined by the kaggle/python Docker image: https://github.com/kaggle/docker-python\n",
    "# For example, here's several helpful packages to load\n",
    "\n",
    "import numpy as np # linear algebra\n",
    "import pandas as pd # data processing, CSV file I/O (e.g. pd.read_csv)\n",
    "import seaborn as sns\n",
    "import matplotlib as mpl\n",
    "import matplotlib.pyplot as plt\n",
    "from sklearn.model_selection import train_test_split\n",
    "from pandas.plotting import parallel_coordinates\n",
    "from sklearn.tree import DecisionTreeClassifier, plot_tree\n",
    "from sklearn import metrics\n",
    "from sklearn import decomposition\n",
    "from sklearn import preprocessing\n",
    "from mpl_toolkits.mplot3d import Axes3D\n",
    "from sklearn.naive_bayes import GaussianNB\n",
    "from sklearn.discriminant_analysis import LinearDiscriminantAnalysis, QuadraticDiscriminantAnalysis\n",
    "from sklearn.neighbors import KNeighborsClassifier\n",
    "from sklearn.svm import SVC\n",
    "from sklearn.linear_model import LogisticRegression\n",
    "from sklearn.model_selection import train_test_split\n",
    "\n",
    "# Input data files are available in the read-only \"../input/\" directory\n",
    "# For example, running this (by clicking run or pressing Shift+Enter) will list all files under the input directory\n",
    "\n",
    "\n",
    "# You can write up to 20GB to the current directory (/kaggle/working/) that gets preserved as output when you create a version using \"Save & Run All\" \n",
    "# You can also write temporary files to /kaggle/temp/, but they won't be saved outside of the current session"
   ]
  },
  {
   "cell_type": "markdown",
   "metadata": {},
   "source": [
    "# # Getting data"
   ]
  },
  {
   "cell_type": "code",
   "execution_count": 11,
   "metadata": {
    "execution": {
     "iopub.execute_input": "2021-09-03T00:38:25.645032Z",
     "iopub.status.busy": "2021-09-03T00:38:25.644559Z",
     "iopub.status.idle": "2021-09-03T00:38:25.676967Z",
     "shell.execute_reply": "2021-09-03T00:38:25.675844Z",
     "shell.execute_reply.started": "2021-09-03T00:38:25.644988Z"
    }
   },
   "outputs": [
    {
     "data": {
      "text/plain": [
       "PassengerId      0\n",
       "Survived         0\n",
       "Pclass           0\n",
       "Name             0\n",
       "Sex              0\n",
       "Age            177\n",
       "SibSp            0\n",
       "Parch            0\n",
       "Ticket           0\n",
       "Fare             0\n",
       "Cabin          687\n",
       "Embarked         2\n",
       "dtype: int64"
      ]
     },
     "execution_count": 11,
     "metadata": {},
     "output_type": "execute_result"
    }
   ],
   "source": [
    "test = pd.read_csv(r'C:\\Users\\Ryan\\Desktop\\TTS\\datasets\\titanic\\test.csv')\n",
    "train = pd.read_csv(r'C:\\Users\\Ryan\\Desktop\\TTS\\datasets\\titanic\\train.csv')\n",
    "\n",
    "#check for missing data\n",
    "train.isnull().sum()"
   ]
  },
  {
   "cell_type": "markdown",
   "metadata": {},
   "source": [
    "# # Data processing: charts, graphs, etc."
   ]
  },
  {
   "cell_type": "code",
   "execution_count": 12,
   "metadata": {
    "execution": {
     "iopub.execute_input": "2021-09-03T00:38:25.678997Z",
     "iopub.status.busy": "2021-09-03T00:38:25.678685Z",
     "iopub.status.idle": "2021-09-03T00:38:25.954291Z",
     "shell.execute_reply": "2021-09-03T00:38:25.953336Z",
     "shell.execute_reply.started": "2021-09-03T00:38:25.678966Z"
    }
   },
   "outputs": [
    {
     "name": "stderr",
     "output_type": "stream",
     "text": [
      "C:\\Users\\Ryan\\anaconda3\\lib\\site-packages\\seaborn\\_decorators.py:36: FutureWarning: Pass the following variables as keyword args: x, y. From version 0.12, the only valid positional argument will be `data`, and passing other arguments without an explicit keyword will result in an error or misinterpretation.\n",
      "  warnings.warn(\n"
     ]
    },
    {
     "data": {
      "text/plain": [
       "<AxesSubplot:xlabel='Pclass', ylabel='Survived'>"
      ]
     },
     "execution_count": 12,
     "metadata": {},
     "output_type": "execute_result"
    },
    {
     "data": {
      "image/png": "[encoded data removed]",
      "text/plain": [
       "<Figure size 432x288 with 1 Axes>"
      ]
     },
     "metadata": {
      "needs_background": "light"
     },
     "output_type": "display_data"
    }
   ],
   "source": [
    "#bar plot of people survived vs passenger class\n",
    "sns.barplot(train.Pclass, train.Survived)"
   ]
  },
  {
   "cell_type": "code",
   "execution_count": 13,
   "metadata": {
    "execution": {
     "iopub.execute_input": "2021-09-03T00:38:25.956106Z",
     "iopub.status.busy": "2021-09-03T00:38:25.955791Z",
     "iopub.status.idle": "2021-09-03T00:38:26.153391Z",
     "shell.execute_reply": "2021-09-03T00:38:26.152233Z",
     "shell.execute_reply.started": "2021-09-03T00:38:25.956077Z"
    }
   },
   "outputs": [
    {
     "data": {
      "text/plain": [
       "Text(0, 0.5, 'Survival rate')"
      ]
     },
     "execution_count": 13,
     "metadata": {},
     "output_type": "execute_result"
    },
    {
     "data": {
      "image/png": "[encoded data removed]",
      "text/plain": [
       "<Figure size 432x288 with 1 Axes>"
      ]
     },
     "metadata": {
      "needs_background": "light"
     },
     "output_type": "display_data"
    }
   ],
   "source": [
    "#plot of survival rate vs passenger class\n",
    "#survival rate has steep decrease as passenger class goes from 1st class to 3rd class\n",
    "\n",
    "pclsurv = train[['Pclass', 'Survived']].groupby(['Pclass'], as_index=False).mean()\n",
    "x_pcl = pclsurv.iloc[:, :1]\n",
    "y_pcl = pclsurv.iloc[:,1:2]\n",
    "plt.plot(x_pcl, y_pcl, 'bo-')\n",
    "plt.xlabel('Pclass')\n",
    "plt.ylabel('Survival rate')\n",
    "\n",
    "\n",
    "\n"
   ]
  },
  {
   "cell_type": "code",
   "execution_count": 14,
   "metadata": {
    "execution": {
     "iopub.execute_input": "2021-09-03T00:38:26.155229Z",
     "iopub.status.busy": "2021-09-03T00:38:26.154881Z",
     "iopub.status.idle": "2021-09-03T00:38:26.174958Z",
     "shell.execute_reply": "2021-09-03T00:38:26.173867Z",
     "shell.execute_reply.started": "2021-09-03T00:38:26.155196Z"
    }
   },
   "outputs": [],
   "source": [
    "#those survived by pclass\n",
    "survived = train[train['Survived'] == 1]\n",
    "surv1 = survived[survived['Pclass'] == 1]\n",
    "surv2 = survived[survived['Pclass'] == 2]\n",
    "surv3 = survived[survived['Pclass'] == 3]\n",
    "\n",
    "#those deceased by pclass\n",
    "deceased = train[train['Survived'] == 0]\n",
    "dec1 = deceased[deceased['Pclass'] == 1]\n",
    "dec2 = deceased[deceased['Pclass'] == 2]\n",
    "dec3 = deceased[deceased['Pclass'] == 3]\n",
    "\n",
    "#calculate bins for histogram\n",
    "\n",
    "#survived\n",
    "s1min = surv1.Fare.min()\n",
    "s1max = surv1.Fare.max()\n",
    "s1delta= round((s1max-s1min)/10)\n",
    "\n",
    "s2min = surv2.Fare.min()\n",
    "s2max = surv2.Fare.max()\n",
    "s2delta = round((s2max-s2min)/10)\n",
    "\n",
    "s3min = surv3.Fare.min()\n",
    "s3max = surv3.Fare.max()\n",
    "s3delta = round((s3max-s3min)/10)\n",
    "\n",
    "#deceased\n",
    "d1min = dec1.Fare.min()\n",
    "d1max = dec1.Fare.max()\n",
    "d1delta= round((d1max-d1min)/10)\n",
    "\n",
    "d2min = dec2.Fare.min()\n",
    "d2max = dec2.Fare.max()\n",
    "d2delta= round((d2max-d2min)/10)\n",
    "\n",
    "d3min = dec3.Fare.min()\n",
    "d3max = dec3.Fare.max()\n",
    "d3delta= round((d3max-d3min)/10)\n",
    "\n"
   ]
  },
  {
   "cell_type": "code",
   "execution_count": 15,
   "metadata": {
    "execution": {
     "iopub.execute_input": "2021-09-03T00:38:26.176835Z",
     "iopub.status.busy": "2021-09-03T00:38:26.176416Z",
     "iopub.status.idle": "2021-09-03T00:38:26.749019Z",
     "shell.execute_reply": "2021-09-03T00:38:26.74783Z",
     "shell.execute_reply.started": "2021-09-03T00:38:26.176791Z"
    }
   },
   "outputs": [
    {
     "data": {
      "text/plain": [
       "<matplotlib.legend.Legend at 0x20b06c35b50>"
      ]
     },
     "execution_count": 15,
     "metadata": {},
     "output_type": "execute_result"
    },
    {
     "data": {
      "image/png": "[encoded data removed]",
      "text/plain": [
       "<Figure size 432x288 with 2 Axes>"
      ]
     },
     "metadata": {
      "needs_background": "light"
     },
     "output_type": "display_data"
    }
   ],
   "source": [
    "#histogram of survived and deceased by fare in pclass 1\n",
    "fig, ax = plt.subplots(1, 2, sharey=True, tight_layout=True)\n",
    "\n",
    "ax[0].hist(surv1.Fare, bins=s1delta, color='g')\n",
    "ax[1].hist(dec1.Fare, bins=d1delta, color='r')\n",
    "import matplotlib.patches as mpatches\n",
    "green = mpatches.Patch(color='green', label='survived')\n",
    "red = mpatches.Patch(color='red', label='deceased')\n",
    "plt.legend(handles=[green, red], bbox_to_anchor=(0., 1.02, 1., .102), loc='lower left',\n",
    "           ncol=2, mode=\"expand\", borderaxespad=0.)"
   ]
  },
  {
   "cell_type": "code",
   "execution_count": 16,
   "metadata": {
    "execution": {
     "iopub.execute_input": "2021-09-03T00:38:26.750594Z",
     "iopub.status.busy": "2021-09-03T00:38:26.750293Z",
     "iopub.status.idle": "2021-09-03T00:38:27.147808Z",
     "shell.execute_reply": "2021-09-03T00:38:27.146946Z",
     "shell.execute_reply.started": "2021-09-03T00:38:26.750565Z"
    }
   },
   "outputs": [
    {
     "data": {
      "text/plain": [
       "<matplotlib.legend.Legend at 0x20b06d5e3d0>"
      ]
     },
     "execution_count": 16,
     "metadata": {},
     "output_type": "execute_result"
    },
    {
     "data": {
      "image/png": "[encoded data removed]",
      "text/plain": [
       "<Figure size 432x288 with 2 Axes>"
      ]
     },
     "metadata": {
      "needs_background": "light"
     },
     "output_type": "display_data"
    }
   ],
   "source": [
    "#histogram of survived and deceased by fare in pclass 2\n",
    "fig, ax = plt.subplots(1, 2, sharey=True, tight_layout=True)\n",
    "\n",
    "ax[0].hist(surv2.Fare, bins=s2delta, color='g')\n",
    "ax[1].hist(dec2.Fare, bins=d2delta, color='r')\n",
    "\n",
    "plt.legend(handles=[green, red], bbox_to_anchor=(0., 1.02, 1., .102), loc='lower left',\n",
    "           ncol=2, mode=\"expand\", borderaxespad=0.)"
   ]
  },
  {
   "cell_type": "code",
   "execution_count": 17,
   "metadata": {
    "execution": {
     "iopub.execute_input": "2021-09-03T00:38:27.150513Z",
     "iopub.status.busy": "2021-09-03T00:38:27.150034Z",
     "iopub.status.idle": "2021-09-03T00:38:27.527906Z",
     "shell.execute_reply": "2021-09-03T00:38:27.527162Z",
     "shell.execute_reply.started": "2021-09-03T00:38:27.150449Z"
    }
   },
   "outputs": [
    {
     "data": {
      "text/plain": [
       "<matplotlib.legend.Legend at 0x20b06e208b0>"
      ]
     },
     "execution_count": 17,
     "metadata": {},
     "output_type": "execute_result"
    },
    {
     "data": {
      "image/png": "[encoded data removed]",
      "text/plain": [
       "<Figure size 432x288 with 2 Axes>"
      ]
     },
     "metadata": {
      "needs_background": "light"
     },
     "output_type": "display_data"
    }
   ],
   "source": [
    "#histogram of survived and deceased by fare in pclass 3\n",
    "fig, ax = plt.subplots(1, 2, sharey=True, tight_layout=True)\n",
    "\n",
    "ax[0].hist(surv3.Fare, bins=s3delta, color='g')\n",
    "ax[1].hist(dec3.Fare, bins=d3delta, color='r')\n",
    "\n",
    "plt.legend(handles=[green, red], bbox_to_anchor=(0., 1.02, 1., .102), loc='lower left',\n",
    "           ncol=2, mode=\"expand\", borderaxespad=0.)"
   ]
  },
  {
   "cell_type": "code",
   "execution_count": 18,
   "metadata": {
    "execution": {
     "iopub.execute_input": "2021-09-03T00:38:27.529733Z",
     "iopub.status.busy": "2021-09-03T00:38:27.529302Z",
     "iopub.status.idle": "2021-09-03T00:38:27.788087Z",
     "shell.execute_reply": "2021-09-03T00:38:27.787065Z",
     "shell.execute_reply.started": "2021-09-03T00:38:27.52969Z"
    }
   },
   "outputs": [
    {
     "name": "stderr",
     "output_type": "stream",
     "text": [
      "C:\\Users\\Ryan\\anaconda3\\lib\\site-packages\\seaborn\\_decorators.py:36: FutureWarning: Pass the following variables as keyword args: x, y. From version 0.12, the only valid positional argument will be `data`, and passing other arguments without an explicit keyword will result in an error or misinterpretation.\n",
      "  warnings.warn(\n"
     ]
    },
    {
     "data": {
      "text/plain": [
       "<AxesSubplot:xlabel='Embarked', ylabel='Survived'>"
      ]
     },
     "execution_count": 18,
     "metadata": {},
     "output_type": "execute_result"
    },
    {
     "data": {
      "image/png": "[encoded data removed]",
      "text/plain": [
       "<Figure size 432x288 with 1 Axes>"
      ]
     },
     "metadata": {
      "needs_background": "light"
     },
     "output_type": "display_data"
    }
   ],
   "source": [
    "#survival by embarkment\n",
    "sns.barplot(train.Embarked, train.Survived)\n"
   ]
  },
  {
   "cell_type": "code",
   "execution_count": 19,
   "metadata": {
    "execution": {
     "iopub.execute_input": "2021-09-03T00:38:27.790058Z",
     "iopub.status.busy": "2021-09-03T00:38:27.789474Z",
     "iopub.status.idle": "2021-09-03T00:38:27.935319Z",
     "shell.execute_reply": "2021-09-03T00:38:27.934154Z",
     "shell.execute_reply.started": "2021-09-03T00:38:27.789999Z"
    }
   },
   "outputs": [
    {
     "name": "stderr",
     "output_type": "stream",
     "text": [
      "C:\\Users\\Ryan\\anaconda3\\lib\\site-packages\\seaborn\\_decorators.py:36: FutureWarning: Pass the following variable as a keyword arg: x. From version 0.12, the only valid positional argument will be `data`, and passing other arguments without an explicit keyword will result in an error or misinterpretation.\n",
      "  warnings.warn(\n"
     ]
    },
    {
     "data": {
      "text/plain": [
       "0"
      ]
     },
     "execution_count": 19,
     "metadata": {},
     "output_type": "execute_result"
    },
    {
     "data": {
      "image/png": "[encoded data removed]",
      "text/plain": [
       "<Figure size 432x288 with 1 Axes>"
      ]
     },
     "metadata": {
      "needs_background": "light"
     },
     "output_type": "display_data"
    }
   ],
   "source": [
    "#number of embarkment\n",
    "sns.countplot(train.Embarked)\n",
    "\n",
    "#fill nan values in embarked with S\n",
    "train.Embarked = train.Embarked.fillna(\"S\")\n",
    "train.Embarked = train.Embarked.replace(3,'S')\n",
    "\n",
    "#check if filled\n",
    "train.Embarked.isnull().sum()\n",
    "\n"
   ]
  },
  {
   "cell_type": "code",
   "execution_count": 20,
   "metadata": {
    "execution": {
     "iopub.execute_input": "2021-09-03T00:38:27.937037Z",
     "iopub.status.busy": "2021-09-03T00:38:27.936702Z",
     "iopub.status.idle": "2021-09-03T00:38:28.325566Z",
     "shell.execute_reply": "2021-09-03T00:38:28.324532Z",
     "shell.execute_reply.started": "2021-09-03T00:38:27.936992Z"
    }
   },
   "outputs": [
    {
     "name": "stderr",
     "output_type": "stream",
     "text": [
      "C:\\Users\\Ryan\\anaconda3\\lib\\site-packages\\seaborn\\_decorators.py:36: FutureWarning: Pass the following variable as a keyword arg: x. From version 0.12, the only valid positional argument will be `data`, and passing other arguments without an explicit keyword will result in an error or misinterpretation.\n",
      "  warnings.warn(\n"
     ]
    },
    {
     "data": {
      "text/plain": [
       "<AxesSubplot:xlabel='ages', ylabel='count'>"
      ]
     },
     "execution_count": 20,
     "metadata": {},
     "output_type": "execute_result"
    },
    {
     "data": {
      "image/png": "[encoded data removed]",
      "text/plain": [
       "<Figure size 1296x720 with 2 Axes>"
      ]
     },
     "metadata": {
      "needs_background": "light"
     },
     "output_type": "display_data"
    }
   ],
   "source": [
    "#age distribution\n",
    "fig, ax = plt.subplots(1,2, figsize = (18,10))\n",
    "plt.hist(train.Age)\n",
    "\n",
    "train['Ages'] = pd.cut(x=train['Age'], bins=[0, 9, 19, 29, 39, 49, 59, 69, 79, 89])\n",
    "\n",
    "train['ages'] = pd.cut(x=train['Age'], \n",
    "                            bins=[0, 9, 19, 29, 39, 49, 59, 69, 79, 89], \n",
    "                            labels=['0', '10', '20', '30', '40', '50', '60', '70', '80'])\n",
    "sns.countplot(train.ages, ax=ax[0])\n"
   ]
  },
  {
   "cell_type": "code",
   "execution_count": 21,
   "metadata": {
    "execution": {
     "iopub.execute_input": "2021-09-03T00:38:28.327582Z",
     "iopub.status.busy": "2021-09-03T00:38:28.327134Z",
     "iopub.status.idle": "2021-09-03T00:38:28.486869Z",
     "shell.execute_reply": "2021-09-03T00:38:28.485805Z",
     "shell.execute_reply.started": "2021-09-03T00:38:28.327539Z"
    }
   },
   "outputs": [
    {
     "name": "stderr",
     "output_type": "stream",
     "text": [
      "C:\\Users\\Ryan\\anaconda3\\lib\\site-packages\\matplotlib\\axes\\_base.py:405: FutureWarning: Support for multi-dimensional indexing (e.g. `obj[:, None]`) is deprecated and will be removed in a future version.  Convert to a numpy array before indexing instead.\n",
      "  x = x[:, np.newaxis]\n"
     ]
    },
    {
     "data": {
      "text/plain": [
       "[<matplotlib.lines.Line2D at 0x20b07454c10>]"
      ]
     },
     "execution_count": 21,
     "metadata": {},
     "output_type": "execute_result"
    },
    {
     "data": {
      "image/png": "[encoded data removed]",
      "text/plain": [
       "<Figure size 432x288 with 1 Axes>"
      ]
     },
     "metadata": {
      "needs_background": "light"
     },
     "output_type": "display_data"
    }
   ],
   "source": [
    "#survival by age\n",
    "plt.plot(train.groupby(['ages']).Survived.count(), 'bo-')"
   ]
  },
  {
   "cell_type": "code",
   "execution_count": 22,
   "metadata": {
    "execution": {
     "iopub.execute_input": "2021-09-03T00:38:28.488995Z",
     "iopub.status.busy": "2021-09-03T00:38:28.488531Z",
     "iopub.status.idle": "2021-09-03T00:38:28.503439Z",
     "shell.execute_reply": "2021-09-03T00:38:28.502298Z",
     "shell.execute_reply.started": "2021-09-03T00:38:28.488946Z"
    }
   },
   "outputs": [
    {
     "data": {
      "text/plain": [
       "Sex     Pclass  Embarked\n",
       "female  1       C           36.052632\n",
       "                Q           33.000000\n",
       "                S           33.456522\n",
       "        2       C           19.142857\n",
       "                Q           30.000000\n",
       "                S           29.719697\n",
       "        3       C           14.062500\n",
       "                Q           22.850000\n",
       "                S           23.223684\n",
       "male    1       C           40.111111\n",
       "                Q           44.000000\n",
       "                S           41.897188\n",
       "        2       C           25.937500\n",
       "                Q           57.000000\n",
       "                S           30.875889\n",
       "        3       C           25.016800\n",
       "                Q           28.142857\n",
       "                S           26.574766\n",
       "Name: Age, dtype: float64"
      ]
     },
     "execution_count": 22,
     "metadata": {},
     "output_type": "execute_result"
    }
   ],
   "source": [
    "train.groupby(['Sex', 'Pclass', 'Embarked']).Age.mean()"
   ]
  },
  {
   "cell_type": "code",
   "execution_count": 23,
   "metadata": {
    "execution": {
     "iopub.execute_input": "2021-09-03T00:38:28.505452Z",
     "iopub.status.busy": "2021-09-03T00:38:28.504976Z",
     "iopub.status.idle": "2021-09-03T00:38:28.520418Z",
     "shell.execute_reply": "2021-09-03T00:38:28.519361Z",
     "shell.execute_reply.started": "2021-09-03T00:38:28.505406Z"
    }
   },
   "outputs": [
    {
     "data": {
      "text/plain": [
       "PassengerId      0\n",
       "Survived         0\n",
       "Pclass           0\n",
       "Name             0\n",
       "Sex              0\n",
       "Age            177\n",
       "SibSp            0\n",
       "Parch            0\n",
       "Ticket           0\n",
       "Fare             0\n",
       "Cabin          687\n",
       "Embarked         0\n",
       "Ages           177\n",
       "ages           177\n",
       "dtype: int64"
      ]
     },
     "execution_count": 23,
     "metadata": {},
     "output_type": "execute_result"
    }
   ],
   "source": [
    "train.isnull().sum()"
   ]
  },
  {
   "cell_type": "code",
   "execution_count": 24,
   "metadata": {
    "execution": {
     "iopub.execute_input": "2021-09-03T00:38:28.522049Z",
     "iopub.status.busy": "2021-09-03T00:38:28.52168Z",
     "iopub.status.idle": "2021-09-03T00:38:28.786752Z",
     "shell.execute_reply": "2021-09-03T00:38:28.78568Z",
     "shell.execute_reply.started": "2021-09-03T00:38:28.521984Z"
    }
   },
   "outputs": [],
   "source": [
    "#help from kevin\n",
    "train.Age = train.groupby(['Sex', 'Pclass', 'Embarked'])['Age'].apply(lambda x: x.fillna(x.mean()))\n",
    "test.Age = test.groupby(['Sex', 'Pclass', 'Embarked'])['Age'].apply(lambda x: x.fillna(x.mean()))\n"
   ]
  },
  {
   "cell_type": "code",
   "execution_count": 25,
   "metadata": {
    "execution": {
     "iopub.execute_input": "2021-09-03T00:38:28.788444Z",
     "iopub.status.busy": "2021-09-03T00:38:28.788148Z",
     "iopub.status.idle": "2021-09-03T00:38:29.033113Z",
     "shell.execute_reply": "2021-09-03T00:38:29.032133Z",
     "shell.execute_reply.started": "2021-09-03T00:38:28.788417Z"
    }
   },
   "outputs": [
    {
     "name": "stderr",
     "output_type": "stream",
     "text": [
      "C:\\Users\\Ryan\\anaconda3\\lib\\site-packages\\seaborn\\_decorators.py:36: FutureWarning: Pass the following variables as keyword args: x, y. From version 0.12, the only valid positional argument will be `data`, and passing other arguments without an explicit keyword will result in an error or misinterpretation.\n",
      "  warnings.warn(\n"
     ]
    },
    {
     "ename": "AttributeError",
     "evalue": "module 'matplotlib.pyplot' has no attribute 'bar_label'",
     "output_type": "error",
     "traceback": [
      "\u001b[1;31m---------------------------------------------------------------------------\u001b[0m",
      "\u001b[1;31mAttributeError\u001b[0m                            Traceback (most recent call last)",
      "\u001b[1;32m<ipython-input-25-eff7acb148f2>\u001b[0m in \u001b[0;36m<module>\u001b[1;34m\u001b[0m\n\u001b[0;32m      2\u001b[0m \u001b[1;31m#train.groupby('Sex').Survived.mean()\u001b[0m\u001b[1;33m\u001b[0m\u001b[1;33m\u001b[0m\u001b[1;33m\u001b[0m\u001b[0m\n\u001b[0;32m      3\u001b[0m \u001b[0mbarplot_sex\u001b[0m \u001b[1;33m=\u001b[0m \u001b[0msns\u001b[0m\u001b[1;33m.\u001b[0m\u001b[0mbarplot\u001b[0m\u001b[1;33m(\u001b[0m\u001b[0mtrain\u001b[0m\u001b[1;33m.\u001b[0m\u001b[0mSex\u001b[0m\u001b[1;33m,\u001b[0m \u001b[0mtrain\u001b[0m\u001b[1;33m.\u001b[0m\u001b[0mSurvived\u001b[0m\u001b[1;33m)\u001b[0m\u001b[1;33m\u001b[0m\u001b[1;33m\u001b[0m\u001b[0m\n\u001b[1;32m----> 4\u001b[1;33m \u001b[0mplt\u001b[0m\u001b[1;33m.\u001b[0m\u001b[0mbar_label\u001b[0m\u001b[1;33m(\u001b[0m\u001b[0mbarplot_sex\u001b[0m\u001b[1;33m.\u001b[0m\u001b[0mcontainers\u001b[0m\u001b[1;33m[\u001b[0m\u001b[1;36m0\u001b[0m\u001b[1;33m]\u001b[0m\u001b[1;33m,\u001b[0m\u001b[0msize\u001b[0m\u001b[1;33m=\u001b[0m\u001b[1;36m16\u001b[0m\u001b[1;33m,\u001b[0m\u001b[0mlabel_type\u001b[0m\u001b[1;33m=\u001b[0m\u001b[1;34m'center'\u001b[0m\u001b[1;33m)\u001b[0m\u001b[1;33m\u001b[0m\u001b[1;33m\u001b[0m\u001b[0m\n\u001b[0m",
      "\u001b[1;31mAttributeError\u001b[0m: module 'matplotlib.pyplot' has no attribute 'bar_label'"
     ]
    },
    {
     "data": {
      "image/png": "[encoded data removed]",
      "text/plain": [
       "<Figure size 432x288 with 1 Axes>"
      ]
     },
     "metadata": {
      "needs_background": "light"
     },
     "output_type": "display_data"
    }
   ],
   "source": [
    "#survival by sex\n",
    "#train.groupby('Sex').Survived.mean()\n",
    "barplot_sex = sns.barplot(train.Sex, train.Survived)\n",
    "plt.bar_label(barplot_sex.containers[0],size=16,label_type='center')"
   ]
  },
  {
   "cell_type": "markdown",
   "metadata": {},
   "source": [
    "# # ML"
   ]
  },
  {
   "cell_type": "code",
   "execution_count": 26,
   "metadata": {
    "execution": {
     "iopub.execute_input": "2021-09-03T00:38:29.034824Z",
     "iopub.status.busy": "2021-09-03T00:38:29.034521Z",
     "iopub.status.idle": "2021-09-03T00:38:29.063124Z",
     "shell.execute_reply": "2021-09-03T00:38:29.062067Z",
     "shell.execute_reply.started": "2021-09-03T00:38:29.034796Z"
    }
   },
   "outputs": [
    {
     "data": {
      "text/html": [
       "<div>\n",
       "<style scoped>\n",
       "    .dataframe tbody tr th:only-of-type {\n",
       "        vertical-align: middle;\n",
       "    }\n",
       "\n",
       "    .dataframe tbody tr th {\n",
       "        vertical-align: top;\n",
       "    }\n",
       "\n",
       "    .dataframe thead th {\n",
       "        text-align: right;\n",
       "    }\n",
       "</style>\n",
       "<table border=\"1\" class=\"dataframe\">\n",
       "  <thead>\n",
       "    <tr style=\"text-align: right;\">\n",
       "      <th></th>\n",
       "      <th>Survived</th>\n",
       "      <th>Pclass</th>\n",
       "      <th>Sex</th>\n",
       "      <th>Age</th>\n",
       "      <th>SibSp</th>\n",
       "      <th>Parch</th>\n",
       "      <th>Fare</th>\n",
       "      <th>Embarked</th>\n",
       "    </tr>\n",
       "  </thead>\n",
       "  <tbody>\n",
       "    <tr>\n",
       "      <th>0</th>\n",
       "      <td>0</td>\n",
       "      <td>3</td>\n",
       "      <td>2</td>\n",
       "      <td>22.000000</td>\n",
       "      <td>1</td>\n",
       "      <td>0</td>\n",
       "      <td>7.2500</td>\n",
       "      <td>3</td>\n",
       "    </tr>\n",
       "    <tr>\n",
       "      <th>1</th>\n",
       "      <td>1</td>\n",
       "      <td>1</td>\n",
       "      <td>1</td>\n",
       "      <td>38.000000</td>\n",
       "      <td>1</td>\n",
       "      <td>0</td>\n",
       "      <td>71.2833</td>\n",
       "      <td>1</td>\n",
       "    </tr>\n",
       "    <tr>\n",
       "      <th>2</th>\n",
       "      <td>1</td>\n",
       "      <td>3</td>\n",
       "      <td>1</td>\n",
       "      <td>26.000000</td>\n",
       "      <td>0</td>\n",
       "      <td>0</td>\n",
       "      <td>7.9250</td>\n",
       "      <td>3</td>\n",
       "    </tr>\n",
       "    <tr>\n",
       "      <th>3</th>\n",
       "      <td>1</td>\n",
       "      <td>1</td>\n",
       "      <td>1</td>\n",
       "      <td>35.000000</td>\n",
       "      <td>1</td>\n",
       "      <td>0</td>\n",
       "      <td>53.1000</td>\n",
       "      <td>3</td>\n",
       "    </tr>\n",
       "    <tr>\n",
       "      <th>4</th>\n",
       "      <td>0</td>\n",
       "      <td>3</td>\n",
       "      <td>2</td>\n",
       "      <td>35.000000</td>\n",
       "      <td>0</td>\n",
       "      <td>0</td>\n",
       "      <td>8.0500</td>\n",
       "      <td>3</td>\n",
       "    </tr>\n",
       "    <tr>\n",
       "      <th>5</th>\n",
       "      <td>0</td>\n",
       "      <td>3</td>\n",
       "      <td>2</td>\n",
       "      <td>28.142857</td>\n",
       "      <td>0</td>\n",
       "      <td>0</td>\n",
       "      <td>8.4583</td>\n",
       "      <td>2</td>\n",
       "    </tr>\n",
       "    <tr>\n",
       "      <th>6</th>\n",
       "      <td>0</td>\n",
       "      <td>1</td>\n",
       "      <td>2</td>\n",
       "      <td>54.000000</td>\n",
       "      <td>0</td>\n",
       "      <td>0</td>\n",
       "      <td>51.8625</td>\n",
       "      <td>3</td>\n",
       "    </tr>\n",
       "    <tr>\n",
       "      <th>7</th>\n",
       "      <td>0</td>\n",
       "      <td>3</td>\n",
       "      <td>2</td>\n",
       "      <td>2.000000</td>\n",
       "      <td>3</td>\n",
       "      <td>1</td>\n",
       "      <td>21.0750</td>\n",
       "      <td>3</td>\n",
       "    </tr>\n",
       "    <tr>\n",
       "      <th>8</th>\n",
       "      <td>1</td>\n",
       "      <td>3</td>\n",
       "      <td>1</td>\n",
       "      <td>27.000000</td>\n",
       "      <td>0</td>\n",
       "      <td>2</td>\n",
       "      <td>11.1333</td>\n",
       "      <td>3</td>\n",
       "    </tr>\n",
       "    <tr>\n",
       "      <th>9</th>\n",
       "      <td>1</td>\n",
       "      <td>2</td>\n",
       "      <td>1</td>\n",
       "      <td>14.000000</td>\n",
       "      <td>1</td>\n",
       "      <td>0</td>\n",
       "      <td>30.0708</td>\n",
       "      <td>1</td>\n",
       "    </tr>\n",
       "  </tbody>\n",
       "</table>\n",
       "</div>"
      ],
      "text/plain": [
       "   Survived  Pclass  Sex        Age  SibSp  Parch     Fare  Embarked\n",
       "0         0       3    2  22.000000      1      0   7.2500         3\n",
       "1         1       1    1  38.000000      1      0  71.2833         1\n",
       "2         1       3    1  26.000000      0      0   7.9250         3\n",
       "3         1       1    1  35.000000      1      0  53.1000         3\n",
       "4         0       3    2  35.000000      0      0   8.0500         3\n",
       "5         0       3    2  28.142857      0      0   8.4583         2\n",
       "6         0       1    2  54.000000      0      0  51.8625         3\n",
       "7         0       3    2   2.000000      3      1  21.0750         3\n",
       "8         1       3    1  27.000000      0      2  11.1333         3\n",
       "9         1       2    1  14.000000      1      0  30.0708         1"
      ]
     },
     "execution_count": 26,
     "metadata": {},
     "output_type": "execute_result"
    }
   ],
   "source": [
    "train.Sex = train.Sex.replace('female', 1)\n",
    "train.Sex = train.Sex.replace('male', 2)\n",
    "\n",
    "train.Embarked = train.Embarked.replace('C', 1)\n",
    "train.Embarked = train.Embarked.replace('Q', 2)\n",
    "train.Embarked = train.Embarked.replace('S', 3)\n",
    "\n",
    "\n",
    "\n",
    "train = train.drop(['PassengerId', 'Name', 'Ticket',  'Cabin', 'Ages', 'ages'], axis=1)\n",
    "train.head(10)"
   ]
  },
  {
   "cell_type": "code",
   "execution_count": 27,
   "metadata": {
    "execution": {
     "iopub.execute_input": "2021-09-03T00:38:29.065095Z",
     "iopub.status.busy": "2021-09-03T00:38:29.064737Z",
     "iopub.status.idle": "2021-09-03T00:38:29.078267Z",
     "shell.execute_reply": "2021-09-03T00:38:29.077192Z",
     "shell.execute_reply.started": "2021-09-03T00:38:29.065061Z"
    }
   },
   "outputs": [],
   "source": [
    "test.Sex = train.Sex.replace('female', 1)\n",
    "test.Sex = train.Sex.replace('male', 2)\n",
    "\n",
    "test.Embarked = test.Embarked.replace('C', 1)\n",
    "test.Embarked = test.Embarked.replace('Q', 2)\n",
    "test.Embarked = test.Embarked.replace('S', 3)\n",
    "\n",
    "\n",
    "test = test.drop(['PassengerId', 'Name', 'Ticket',  'Cabin'], axis=1)\n",
    "\n"
   ]
  },
  {
   "cell_type": "code",
   "execution_count": 28,
   "metadata": {
    "execution": {
     "iopub.execute_input": "2021-09-03T00:38:29.080065Z",
     "iopub.status.busy": "2021-09-03T00:38:29.079723Z",
     "iopub.status.idle": "2021-09-03T00:38:29.116045Z",
     "shell.execute_reply": "2021-09-03T00:38:29.114985Z",
     "shell.execute_reply.started": "2021-09-03T00:38:29.080032Z"
    }
   },
   "outputs": [
    {
     "name": "stdout",
     "output_type": "stream",
     "text": [
      "     Pclass  Sex   Age  SibSp  Parch  Fare  Embarked\n",
      "152       3    2  60.5      0      0   NaN         3\n",
      "Pclass  Embarked\n",
      "1       1           110.073511\n",
      "        2            90.000000\n",
      "        3            76.677504\n",
      "2       1            20.120445\n",
      "        2            11.273950\n",
      "        3            23.056090\n",
      "3       1            10.658700\n",
      "        2             8.998985\n",
      "        3            13.913030\n",
      "Name: Fare, dtype: float64\n"
     ]
    },
    {
     "data": {
      "text/plain": [
       "Pclass      0\n",
       "Sex         0\n",
       "Age         0\n",
       "SibSp       0\n",
       "Parch       0\n",
       "Fare        0\n",
       "Embarked    0\n",
       "dtype: int64"
      ]
     },
     "execution_count": 28,
     "metadata": {},
     "output_type": "execute_result"
    }
   ],
   "source": [
    "#where is missing data\n",
    "null_data = test[test.isnull().any(axis=1)]\n",
    "print(null_data)\n",
    "\n",
    "#find average fare with same characteristics\n",
    "print(test.groupby(['Pclass', 'Embarked']).Fare.mean())\n",
    "\n",
    "test.Fare = test.groupby(['Pclass', 'Embarked'])['Fare'].apply(lambda x: x.fillna(x.mean()))\n",
    "\n",
    "test.isnull().sum()"
   ]
  },
  {
   "cell_type": "code",
   "execution_count": 29,
   "metadata": {
    "execution": {
     "iopub.execute_input": "2021-09-03T00:38:29.117556Z",
     "iopub.status.busy": "2021-09-03T00:38:29.117263Z",
     "iopub.status.idle": "2021-09-03T00:38:29.378882Z",
     "shell.execute_reply": "2021-09-03T00:38:29.377847Z",
     "shell.execute_reply.started": "2021-09-03T00:38:29.11753Z"
    }
   },
   "outputs": [],
   "source": [
    "y = train.Survived\n",
    "x_train = train.drop('Survived', axis=1)\n",
    "\n",
    "from sklearn.model_selection import train_test_split\n",
    "Xtrain, Xtest, ytrain, ytest = train_test_split(x_train, y, test_size=0.25)\n",
    "\n",
    "\n",
    "from sklearn.ensemble import RandomForestClassifier\n",
    "predictions = RandomForestClassifier(n_estimators=100)\n",
    "predictions.fit(Xtrain, ytrain)\n",
    "#result = predictions.predict(Xtest)\n",
    "#print(metrics.accuracy_score(ytest, result))\n",
    "\n",
    "to_submit = predictions.predict(test)\n"
   ]
  },
  {
   "cell_type": "code",
   "execution_count": null,
   "metadata": {},
   "outputs": [],
   "source": []
  }
 ],
 "metadata": {
  "kernelspec": {
   "display_name": "Python 3",
   "language": "python",
   "name": "python3"
  },
  "language_info": {
   "codemirror_mode": {
    "name": "ipython",
    "version": 3
   },
   "file_extension": ".py",
   "mimetype": "text/x-python",
   "name": "python",
   "nbconvert_exporter": "python",
   "pygments_lexer": "ipython3",
   "version": "3.8.8"
  }
 },
 "nbformat": 4,
 "nbformat_minor": 4
}
